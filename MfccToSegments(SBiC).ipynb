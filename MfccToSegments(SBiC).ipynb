{
 "cells": [
  {
   "cell_type": "code",
   "execution_count": 1,
   "metadata": {},
   "outputs": [],
   "source": [
    "from essentia import *\n",
    "from essentia.standard import *\n",
    "import essentia as es\n",
    "import os\n",
    "import json\n",
    "import numpy as np"
   ]
  },
  {
   "cell_type": "code",
   "execution_count": 2,
   "metadata": {},
   "outputs": [],
   "source": [
    "# Rate settings.\n",
    "sampleRate = 44100\n",
    "lowlevelHopSize = 512"
   ]
  },
  {
   "cell_type": "code",
   "execution_count": 3,
   "metadata": {},
   "outputs": [],
   "source": [
    "# Settings for making the segments. Adjusting these makes for different number of segments.\n",
    "# These settings got a variation between 5 and 9 number of segements for all the eurovision numbers.\n",
    "minSegLength = 10\n",
    "incr1 = 1330\n",
    "incr2 = 1300\n",
    "wsize1 = 4000\n",
    "wsize2 = 3900\n",
    "compw = 1.5\n",
    "sbic = SBic(size1=wsize1, inc1=incr1,\n",
    "                     size2=wsize2, inc2=incr2,\n",
    "                     cpw=compw, minLength=minSegLength) "
   ]
  },
  {
   "cell_type": "code",
   "execution_count": 5,
   "metadata": {},
   "outputs": [],
   "source": [
    "# The resulting directory for the segments is one file with all the segments in one JSON.\n",
    "mfccPath = \"example/MFCC\"\n",
    "mfccFiles = os.listdir(mfccPath)\n",
    "pool = es.Pool()\n",
    "# Loop over mfcc files\n",
    "for sigFile in mfccFiles:\n",
    "#     Get year and country for naming\n",
    "    year, country, _ = sigFile.split(\"_\")\n",
    "#     Read mfcc for a number.\n",
    "    with open(mfccPath + \"/\" + sigFile) as f:\n",
    "        jsonedPool = json.load(f)\n",
    "#     Get mfcc's and store in array and transpose so it can be worked with.\n",
    "    mfcc = np.array(jsonedPool[\"lowlevel\"][\"mfcc\"])\n",
    "    features = [val for val in mfcc.transpose()]\n",
    "#     Get the segments in frame number indices with sbic function.\n",
    "    segments = sbic(array(features))\n",
    "#     Name the key with year and country for later look ups.\n",
    "    key = str(year) + \"_\" + country + \".segmentation.timestamps\"\n",
    "#     Loop over the resulting segments and map the indices to timestamp indices \n",
    "#      and store in resulting pool dictionary.\n",
    "    for segment in segments:\n",
    "        pool.add(key, segment*lowlevelHopSize/sampleRate)"
   ]
  },
  {
   "cell_type": "code",
   "execution_count": 6,
   "metadata": {},
   "outputs": [],
   "source": [
    "# Store pool dictionary in a sig file.\n",
    "sbicPath = \"example/SBiCs.sig\"\n",
    "output = YamlOutput(filename=sbicPath, format=\"json\")(pool)"
   ]
  },
  {
   "cell_type": "code",
   "execution_count": null,
   "metadata": {},
   "outputs": [],
   "source": []
  }
 ],
 "metadata": {
  "kernelspec": {
   "display_name": "Python 3",
   "language": "python",
   "name": "python3"
  },
  "language_info": {
   "codemirror_mode": {
    "name": "ipython",
    "version": 3
   },
   "file_extension": ".py",
   "mimetype": "text/x-python",
   "name": "python",
   "nbconvert_exporter": "python",
   "pygments_lexer": "ipython3",
   "version": "3.6.9"
  }
 },
 "nbformat": 4,
 "nbformat_minor": 2
}
