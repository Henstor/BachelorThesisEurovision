{
 "cells": [
  {
   "cell_type": "code",
   "execution_count": 1,
   "metadata": {},
   "outputs": [],
   "source": [
    "# NOTE: This is a very time consuming piece of code. When extracting audio features for all songs in the 64 years\n",
    "# of the Eurovision Song Contest, it could take at least a week when only running the code below.\n",
    "# I suggest doing it concurrent, under the first piece of codes is code for doing multiple years in parallel, \n",
    "# or 1 year in parallel, or one song.\n",
    "\n",
    "from essentia import *\n",
    "from essentia.standard import *\n",
    "import essentia as es\n",
    "import sys\n",
    "import os\n",
    "import json\n",
    "import numpy as np\n",
    "import matplotlib.pyplot as plt\n",
    "import multiprocessing as mp"
   ]
  },
  {
   "cell_type": "code",
   "execution_count": 26,
   "metadata": {
    "scrolled": false
   },
   "outputs": [],
   "source": [
    "sbicPath = \"example/SBiCs.sig\"\n",
    "with open(sbicPath) as f:\n",
    "    segments = json.load(f)"
   ]
  },
  {
   "cell_type": "code",
   "execution_count": 4,
   "metadata": {},
   "outputs": [],
   "source": [
    "# The extractedframe directory structure is the same as MP3. Per year there is a file for every segment in every \n",
    "# song.\n",
    "extractedFramesPath = \"example/extractedFrames\"\n",
    "mp3Path = \"example/MP3\"\n",
    "yearDirectories = os.listdir(mp3Path)\n",
    "yearDirectories = [dirs for dirs in yearDirectories if dirs[0] != \".\"]"
   ]
  },
  {
   "cell_type": "code",
   "execution_count": 41,
   "metadata": {},
   "outputs": [],
   "source": [
    "# ALSO NOTE! This code is useless to run if the target directories do'nt exist!\n",
    "# Run this for making these. (Gives error if the directories do already exist.)\n",
    "for year in yearDirectories:\n",
    "    os.mkdir(extractedFramesPath+\"/\"+year)"
   ]
  },
  {
   "cell_type": "code",
   "execution_count": 6,
   "metadata": {},
   "outputs": [
    {
     "name": "stdout",
     "output_type": "stream",
     "text": [
      "Done:  2019 Netherlands\n",
      "2019 Is completed.\n"
     ]
    }
   ],
   "source": [
    "# Loop over year directories.\n",
    "for year in yearDirectories:\n",
    "#     Get mp3 files of year\n",
    "        mp3s = os.listdir(mp3Path + \"/\" + str(year))\n",
    "        mp3s = [mp3 for mp3 in mp3s if mp3[0] != \"_\"]\n",
    "#         Loop over mp3 files\n",
    "        for mp3 in mp3s:\n",
    "#         Get country name for naming resulting file.\n",
    "            country = mp3.split(\"_\")[0]\n",
    "#        Getting timestamps from SBiC files. It may go wrong that naming of mp3 file and SBiC is not the same.\n",
    "            try :\n",
    "                timestamps = segments[str(year)+\"_\"+country][\"segmentation\"][\"timestamps\"]\n",
    "            except:\n",
    "                print(\"Something went wrong when getting segments for: \", year, country)\n",
    "                continue\n",
    "            mp3name = mp3Path + \"/\" + str(year)+\"/\" + mp3\n",
    "#             Loop over timestamps of song.\n",
    "            for i in range(1, len(timestamps)):\n",
    "                filename = extractedFramesPath + \"/\"+str(year)+\"/\"+str(year)+ \"_\"+country+str(i)+\".json\"\n",
    "#             Extract audio features form segment and store in file.\n",
    "                try:\n",
    "                    features, features_frames = MusicExtractor(lowlevelStats=['mean', 'stdev', 'min', 'max'],\n",
    "                                                      rhythmStats=['mean', 'stdev', 'min', 'max'],\n",
    "                                                      tonalStats=['mean', 'stdev', 'min', 'max'],\n",
    "                                                  startTime=timestamps[i-1],\n",
    "                                                  endTime=timestamps[i])(mp3name)\n",
    "                    YamlOutput(filename=filename, format=\"json\")(features)\n",
    "                except:\n",
    "                    print(\"Something went wrong when extracting audio features for: \",  year, country, i)\n",
    "        \n",
    "            print(\"Done: \", year, country)\n",
    "        print(year, \"Is completed.\")"
   ]
  },
  {
   "cell_type": "code",
   "execution_count": 20,
   "metadata": {},
   "outputs": [],
   "source": []
  },
  {
   "cell_type": "code",
   "execution_count": 22,
   "metadata": {
    "scrolled": false
   },
   "outputs": [],
   "source": [
    "# Code for running more years in parallel.\n",
    "# Warning: Doing all 64 years may still take multiple days!\n",
    "\n",
    "# # Get meta\n",
    "# numberOfCores = 6\n",
    "# # Divide year directories over cores.\n",
    "# coreDivision = np.array_split(np.array(yearDirectories), numberOfCores)\n",
    "# # Start processes\n",
    "# processen = [mp.Process(target=frameExtractionParallelPerYear, \n",
    "#                         args=([coreDivision[x]])) for x in range(numberOfCores)]\n",
    "# for p in processen:\n",
    "#     p.start()\n",
    "# # Always join processes.\n",
    "# for p in processen:\n",
    "#     p.join()"
   ]
  },
  {
   "cell_type": "code",
   "execution_count": null,
   "metadata": {},
   "outputs": [],
   "source": [
    "def frameExtractionParallelPerYear(yearsInCore):\n",
    "#     Loop over years from input.\n",
    "    for year in yearsInCore:\n",
    "#         From here is the same as above piece of code.\n",
    "        mp3s = os.listdir(mp3Path + \"/\" + str(year))\n",
    "        mp3s = [mp3 for mp3 in mp3s if mp3[0] != \"_\"]\n",
    "        for mp3 in mp3s:\n",
    "            country = mp3.split(\"_\")[0]\n",
    "            try :\n",
    "                timestamps = segments[str(year)+\"_\"+country][\"segmentation\"][\"timestamps\"]\n",
    "            except:\n",
    "                print(\"Something went wrong when getting segments for: \", year, country)\n",
    "                continue\n",
    "            mp3name = mp3Path + \"/\" + str(year)+\"/\" + mp3\n",
    "            for i in range(1, len(timestamps)):\n",
    "                filename = extractedFramesPath + \"/\"+str(year)+\"/\"+str(year)+ \"_\"+country+str(i)+\".json\"\n",
    "                try:\n",
    "                    features, features_frames = MusicExtractor(lowlevelStats=['mean', 'stdev', 'min', 'max'],\n",
    "                                                      rhythmStats=['mean', 'stdev', 'min', 'max'],\n",
    "                                                      tonalStats=['mean', 'stdev', 'min', 'max'],\n",
    "                                                  startTime=timestamps[i-1],\n",
    "                                                  endTime=timestamps[i])(mp3name)\n",
    "                    YamlOutput(filename=filename, format=\"json\")(features)\n",
    "                except:\n",
    "                    print(\"Something went wrong when extracting audio features for: \",  year, country, i)\n",
    "        \n",
    "            print(\"Done: \", year, country)\n",
    "        print(year, \"Is completed.\")"
   ]
  },
  {
   "cell_type": "code",
   "execution_count": null,
   "metadata": {
    "collapsed": true
   },
   "outputs": [],
   "source": []
  },
  {
   "cell_type": "code",
   "execution_count": null,
   "metadata": {
    "collapsed": true
   },
   "outputs": [],
   "source": [
    "# Code for running all songs in one year in parallel.\n",
    "\n",
    "# # Get meta\n",
    "# numberOfCores = 6\n",
    "# yearToDoInParallel = \"2019\"\n",
    "# # Get mp3 files for given year\n",
    "# mp3s = os.listdir(mp3Path + \"/\" + str(yearToDoInParallel))\n",
    "# mp3s = [mp3 for mp3 in mp3s if mp3[0] != \"_\"]\n",
    "# # Divide mp3 files over cores.\n",
    "# coreDivision = np.array_split(np.array(mp3s), numberOfCores)\n",
    "# # Start processes\n",
    "# processen = [mp.Process(target=frameExtractionParallelOneYear, \n",
    "#                         args=([coreDivision[x]])) for x in range(numberOfCores)]\n",
    "# for p in processen:\n",
    "#     p.start()\n",
    "# # Always join processes\n",
    "# for p in processen:\n",
    "#     p.join()"
   ]
  },
  {
   "cell_type": "code",
   "execution_count": 23,
   "metadata": {},
   "outputs": [],
   "source": [
    "def frameExtractionParallelOneYear(mp3sInCore):\n",
    "#     Loop over inputted mp3 files\n",
    "    for mp3 in mp3sInCore:\n",
    "#         Code same as above. Only yearToDoInParallel is static.\n",
    "        country = mp3.split(\"_\")[0]\n",
    "        try :\n",
    "            timestamps = segments[str(yearToDoInParallel)+\"_\"+country][\"segmentation\"][\"timestamps\"]\n",
    "        except:\n",
    "            print(\"Something went wrong when getting segments for: \", yearToDoInParallel, country)\n",
    "            continue\n",
    "        mp3name = mp3Path + \"/\" + str(yearToDoInParallel)+\"/\" + mp3\n",
    "        for i in range(1, len(timestamps)):\n",
    "            filename = extractedFramesPath + \"/\"+str(yearToDoInParallel)+\"/\"+str(yearToDoInParallel)+ \"_\"+country+str(i)+\".json\"\n",
    "            try:\n",
    "                features, features_frames = MusicExtractor(lowlevelStats=['mean', 'stdev', 'min', 'max'],\n",
    "                                                  rhythmStats=['mean', 'stdev', 'min', 'max'],\n",
    "                                                  tonalStats=['mean', 'stdev', 'min', 'max'],\n",
    "                                              startTime=timestamps[i-1],\n",
    "                                              endTime=timestamps[i])(mp3name)\n",
    "                YamlOutput(filename=filename, format=\"json\")(features)\n",
    "            except:\n",
    "                print(\"Something went wrong when extracting audio features for: \",  yearToDoInParallel, country, i)\n",
    "\n",
    "        print(\"Done: \", year, country)"
   ]
  },
  {
   "cell_type": "code",
   "execution_count": null,
   "metadata": {},
   "outputs": [],
   "source": []
  },
  {
   "cell_type": "code",
   "execution_count": 39,
   "metadata": {},
   "outputs": [],
   "source": [
    "# Code for running segments of one song in parallel.\n",
    "\n",
    "# # Get meta\n",
    "# numberOfCores = 6\n",
    "# yearToDoInParallel = \"2019\"\n",
    "# countryToDoInParallel = \"Netherlands\"\n",
    "# songToDoInParallel = \"Netherlands_Arcade_Duncan Laurence.mp3\"\n",
    "# mp3ToDoInParallel = \"example/MP3/\"+yearToDoInParallel+\"/\"+songToDoInParallel\n",
    "\n",
    "# # Get the timestamps\n",
    "# timestamps = segments[str(yearToDoInParallel)+\"_\"+countryToDoInParallel][\"segmentation\"][\"timestamps\"]\n",
    "\n",
    "# # Divide timestamps over the cores\n",
    "# segmentsForParallel = []\n",
    "# for i in range(1, len(timestamps)):\n",
    "#     segmentsForParallel.append((i, timestamps[i-1], timestamps[i]))\n",
    "    \n",
    "# coreDivision = np.array_split(np.array(segmentsForParallel), numberOfCores)\n",
    "\n",
    "# # Start processes.\n",
    "# processen = [mp.Process(target=frameExtractionParallelOneSong, \n",
    "#                         args=([coreDivision[x]])) for x in range(numberOfCores)]\n",
    "# for p in processen:\n",
    "#     p.start()\n",
    "# # Always join processes.\n",
    "# for p in processen:\n",
    "#     p.join()"
   ]
  },
  {
   "cell_type": "code",
   "execution_count": 40,
   "metadata": {},
   "outputs": [],
   "source": [
    "def frameExtractionParallelOneSong(segmentsInCore):\n",
    "#     Loop over inputted segments of song to choice.\n",
    "    for i, start, end in segmentsInCore:\n",
    "#         Make filename with above defined year and country\n",
    "        filename = extractedFramesPath + \"/\"+str(yearToDoInParallel)+\"/\"+str(yearToDoInParallel)+ \"_\"+countryToDoInParallel+str(i)+\".json\"\n",
    "        try:\n",
    "            features, features_frames = MusicExtractor(lowlevelStats=['mean', 'stdev', 'min', 'max'],\n",
    "                                              rhythmStats=['mean', 'stdev', 'min', 'max'],\n",
    "                                              tonalStats=['mean', 'stdev', 'min', 'max'],\n",
    "                                          startTime=start,\n",
    "                                          endTime=end)(mp3ToDoInParallel)\n",
    "            YamlOutput(filename=filename, format=\"json\")(features)\n",
    "            print(\"Finished segment: \", i)\n",
    "        except:\n",
    "            print(\"Something went wrong when extracting audio features for: \",  year, country, i)\n"
   ]
  },
  {
   "cell_type": "code",
   "execution_count": null,
   "metadata": {},
   "outputs": [],
   "source": []
  }
 ],
 "metadata": {
  "kernelspec": {
   "display_name": "Python 3",
   "language": "python",
   "name": "python3"
  },
  "language_info": {
   "codemirror_mode": {
    "name": "ipython",
    "version": 3
   },
   "file_extension": ".py",
   "mimetype": "text/x-python",
   "name": "python",
   "nbconvert_exporter": "python",
   "pygments_lexer": "ipython3",
   "version": "3.6.9"
  }
 },
 "nbformat": 4,
 "nbformat_minor": 2
}
