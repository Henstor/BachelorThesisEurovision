{
 "cells": [
  {
   "cell_type": "code",
   "execution_count": 17,
   "metadata": {},
   "outputs": [],
   "source": [
    "import essentia.standard as stndrd\n",
    "from essentia.standard import *\n",
    "import os"
   ]
  },
  {
   "cell_type": "code",
   "execution_count": 18,
   "metadata": {},
   "outputs": [],
   "source": [
    "# For getting the mfcc's from a frame of sound.\n",
    "w = Windowing(type=\"hann\")\n",
    "spectrum = Spectrum()\n",
    "mfcc = MFCC()\n",
    "logNorm = UnaryOperator(type=\"log\")"
   ]
  },
  {
   "cell_type": "code",
   "execution_count": 19,
   "metadata": {},
   "outputs": [],
   "source": [
    "# Structure of files is as follows:\n",
    "# example/MP3/[year]/[MP3]\n",
    "# So a directoy for every year with belonging mp3 files per country.\n",
    "# And for the resultin mfcc files:\n",
    "# example/MFCC/[MFCC file]\n",
    "# One file per participating song. No directory per year.\n",
    "# MFCC filename is as following: [year]_[country]_mfcc.sig\n",
    "\n",
    "# Insert own directory for these paths to your needs.\n",
    "mp3Path = \"example/MP3\"\n",
    "mfccPath = \"example/MFCC\"\n",
    "# Get list with the year directories\n",
    "yearDirectories = os.listdir(mp3Path)\n",
    "yearDirectories = [d for d in yearDirectories if d[0] != \".\"]"
   ]
  },
  {
   "cell_type": "code",
   "execution_count": 20,
   "metadata": {},
   "outputs": [],
   "source": [
    "# Loop over years\n",
    "for year in yearDirectories:\n",
    "#     Get mp3 files in the year.\n",
    "    mp3s = os.listdir(mp3Path + \"/\" + str(year))\n",
    "    mp3s = [mp3 for mp3 in mp3s if mp3[0] != \".\"]\n",
    "#     Loop over the mp3 files.\n",
    "    for mp3 in mp3s:\n",
    "#         Get name of country for the filename later.\n",
    "        country = mp3.split(\"_\")[0]\n",
    "#         Load in audio.\n",
    "        loader = stndrd.MonoLoader(filename = mp3Path + \"/\" + year + \"/\" + mp3)\n",
    "        audio = loader()\n",
    "#         Make a essentia pool dictionary.\n",
    "        pool = essentia.Pool()\n",
    "#         Get MFCC's and store in pool dictionary.\n",
    "        for frame in FrameGenerator(audio, frameSize = 1024, hopSize = 512, startFromZero=True):\n",
    "            mfcc_bands, mfcc_coeffs = mfcc(spectrum(w(frame)))\n",
    "            pool.add('lowlevel.mfcc', mfcc_coeffs)\n",
    "            pool.add('lowlevel.mfcc_bands', mfcc_bands)\n",
    "            pool.add('lowlevel.mfcc_bands_log', logNorm(mfcc_bands))\n",
    "            \n",
    "#         Write pool dictionary to new file in the MFCC directory as JSON.\n",
    "        filenamedirectory = mfccPath + \"/\" + year + \"_\" + country + \"_mfcc.sig\"\n",
    "        output = YamlOutput(filename=filenamedirectory, format=\"json\")(pool)"
   ]
  }
 ],
 "metadata": {
  "kernelspec": {
   "display_name": "Python 3",
   "language": "python",
   "name": "python3"
  },
  "language_info": {
   "codemirror_mode": {
    "name": "ipython",
    "version": 3
   },
   "file_extension": ".py",
   "mimetype": "text/x-python",
   "name": "python",
   "nbconvert_exporter": "python",
   "pygments_lexer": "ipython3",
   "version": "3.6.9"
  }
 },
 "nbformat": 4,
 "nbformat_minor": 2
}
